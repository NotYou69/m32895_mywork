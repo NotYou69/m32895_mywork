{
 "cells": [
  {
   "cell_type": "code",
   "execution_count": null,
   "metadata": {},
   "outputs": [
    {
     "name": "stdout",
     "output_type": "stream",
     "text": [
      "Minimum Temperature: 18\n",
      "Maximum Temperature: 30\n",
      "Average Temperature: 23.133333333333333\n",
      "Temperatures in Fahrenheit: [71.6 75.2 66.2 69.8 73.4 77.  78.8 80.6 75.2 73.4 68.  71.6 69.8 66.2\n",
      " 64.4 71.6 73.4 75.2 78.8 82.4 86.  80.6 77.  78.8 75.2 71.6 69.8 68.\n",
      " 66.2 73.4]\n",
      "Days with temperature above 25°C: [26 27 26 28 30 27 26]\n",
      "Number of days with temperature below 20°C: 4\n",
      "Sorted Temperatures: [18 19 19 19 20 20 21 21 21 22 22 22 22 23 23 23 23 24 24 24 24 25 25 26\n",
      " 26 26 27 27 28 30]\n",
      "Reshaped Temperature Array (5 weeks, 6 days each):\n",
      " [[22 24 19 21 23 25]\n",
      " [26 27 24 23 20 22]\n",
      " [21 19 18 22 23 24]\n",
      " [26 28 30 27 25 26]\n",
      " [24 22 21 20 19 23]]\n"
     ]
    }
   ],
   "source": [
    "import numpy as np\n",
    "\n",
    "temperatures_celsius = np.array([22, 24, 19, 21, 23, 25, 26, 27, 24, 23, 20, 22, 21, 19, 18, 22, 23, 24, 26, 28, 30, 27, 25, 26, 24, 22, 21, 20, 19, 23])\n",
    "\n",
    "min_temp = np.min(temperatures_celsius)\n",
    "max_temp = np.max(temperatures_celsius)\n",
    "avg_temp = np.mean(temperatures_celsius)\n",
    "\n",
    "print(\"Minimum Temperature:\", min_temp)\n",
    "print(\"Maximum Temperature:\", max_temp)\n",
    "print(\"Average Temperature:\", avg_temp)\n",
    "\n",
    "temperatures_fahrenheit = (temperatures_celsius * 9/5) + 32\n",
    "print(\"Temperatures in Fahrenheit:\", temperatures_fahrenheit)\n",
    "\n",
    "above_25 = temperatures_celsius[temperatures_celsius > 25]\n",
    "print(\"Days with temperature above 25°C:\", above_25)\n",
    "\n",
    "below_20_count = np.sum(temperatures_celsius < 20)\n",
    "print(\"Number of days with temperature below 20°C:\", below_20_count)\n",
    "\n",
    "sorted_temperatures = np.sort(temperatures_celsius)\n",
    "print(\"Sorted Temperatures:\", sorted_temperatures)\n",
    "\n",
    "reshaped_temperatures = temperatures_celsius.reshape(5, 6)\n",
    "print(\"Reshaped Temperature Array (5 weeks, 6 days each):\\n\", reshaped_temperatures)\n"
   ]
  }
 ],
 "metadata": {
  "kernelspec": {
   "display_name": "Python 3",
   "language": "python",
   "name": "python3"
  },
  "language_info": {
   "codemirror_mode": {
    "name": "ipython",
    "version": 3
   },
   "file_extension": ".py",
   "mimetype": "text/x-python",
   "name": "python",
   "nbconvert_exporter": "python",
   "pygments_lexer": "ipython3",
   "version": "3.12.1"
  }
 },
 "nbformat": 4,
 "nbformat_minor": 2
}
