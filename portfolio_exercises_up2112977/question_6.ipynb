{
 "cells": [
  {
   "cell_type": "code",
   "execution_count": null,
   "metadata": {},
   "outputs": [],
   "source": [
    "import random"
   ]
  },
  {
   "cell_type": "code",
   "execution_count": 16,
   "metadata": {},
   "outputs": [
    {
     "name": "stdout",
     "output_type": "stream",
     "text": [
      "Guess The Number: 1-10!\n",
      "Too low!\n",
      "Too high!\n",
      "Too high!\n",
      "Too high!\n",
      "Too high!\n",
      "You got it! The number was 2 !\n"
     ]
    }
   ],
   "source": [
    "number = random.randint(1, 10)\n",
    "print(\"Guess The Number: 1-10!\")\n",
    "guess = int(input(\"Guess a nuber:\"))\n",
    "while guess!= number:\n",
    "    if guess > number:\n",
    "        print(\"Too high!\")\n",
    "        guess = int(input(\"Try again:\"))\n",
    "    elif guess < number:\n",
    "        print(\"Too low!\") \n",
    "        guess = int(input(\"Try again:\"))\n",
    "    else:\n",
    "        break\n",
    "print(\"You got it! The number was\", number,\"!\")"
   ]
  }
 ],
 "metadata": {
  "kernelspec": {
   "display_name": "Python 3 (ipykernel)",
   "language": "python",
   "name": "python3"
  },
  "language_info": {
   "codemirror_mode": {
    "name": "ipython",
    "version": 3
   },
   "file_extension": ".py",
   "mimetype": "text/x-python",
   "name": "python",
   "nbconvert_exporter": "python",
   "pygments_lexer": "ipython3",
   "version": "3.12.1"
  }
 },
 "nbformat": 4,
 "nbformat_minor": 2
}
