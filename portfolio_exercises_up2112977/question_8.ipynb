{
 "cells": [
  {
   "cell_type": "code",
   "execution_count": 2,
   "metadata": {},
   "outputs": [
    {
     "name": "stdout",
     "output_type": "stream",
     "text": [
      "The sum of the series is: 434.39980158730157\n"
     ]
    }
   ],
   "source": [
    "import math\n",
    "\n",
    "def series_sum(x, N):\n",
    "    total = 0\n",
    "    for n in range(1, N + 1):\n",
    "        numerator = x * (5 ** (2 ** n))\n",
    "        denominator = math.factorial(n + (n + 1))\n",
    "        total += numerator / denominator\n",
    "    return total\n",
    "\n",
    "x = float(input(\"Enter value of x: \"))\n",
    "N = int(input(\"Enter value of N: \"))\n",
    "\n",
    "result = series_sum(x, N)\n",
    "print(f\"The sum of the series is: {result}\")\n"
   ]
  }
 ],
 "metadata": {
  "kernelspec": {
   "display_name": "Python 3",
   "language": "python",
   "name": "python3"
  },
  "language_info": {
   "codemirror_mode": {
    "name": "ipython",
    "version": 3
   },
   "file_extension": ".py",
   "mimetype": "text/x-python",
   "name": "python",
   "nbconvert_exporter": "python",
   "pygments_lexer": "ipython3",
   "version": "3.12.1"
  }
 },
 "nbformat": 4,
 "nbformat_minor": 2
}
