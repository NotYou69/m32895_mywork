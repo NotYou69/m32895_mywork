{
 "cells": [
  {
   "cell_type": "code",
   "execution_count": 5,
   "metadata": {},
   "outputs": [
    {
     "name": "stdout",
     "output_type": "stream",
     "text": [
      "System requires a password:\n",
      "Incorrect password.\n",
      "Access Granted!\n",
      "Welcome.\n"
     ]
    }
   ],
   "source": [
    "password = \"Python123\"\n",
    "print(\"System requires a password:\")\n",
    "guess = input(\"Please input a password:\")\n",
    "login = False\n",
    "while login == False:\n",
    "    if guess!= password:\n",
    "        login == False\n",
    "        print(\"Incorrect password.\")\n",
    "        guess = input(\"Try again:\")\n",
    "    else:\n",
    "        login == True\n",
    "        print(\"Access Granted!\")\n",
    "        break\n",
    "print(\"Welcome.\")"
   ]
  }
 ],
 "metadata": {
  "kernelspec": {
   "display_name": "Python 3 (ipykernel)",
   "language": "python",
   "name": "python3"
  },
  "language_info": {
   "codemirror_mode": {
    "name": "ipython",
    "version": 3
   },
   "file_extension": ".py",
   "mimetype": "text/x-python",
   "name": "python",
   "nbconvert_exporter": "python",
   "pygments_lexer": "ipython3",
   "version": "3.12.1"
  }
 },
 "nbformat": 4,
 "nbformat_minor": 2
}
