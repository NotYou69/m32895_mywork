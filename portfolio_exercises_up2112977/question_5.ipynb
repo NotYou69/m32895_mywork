{
 "cells": [
  {
   "cell_type": "code",
   "execution_count": 14,
   "metadata": {},
   "outputs": [
    {
     "name": "stdout",
     "output_type": "stream",
     "text": [
      "Min value is: 0.72\n",
      "Max value is: 132\n"
     ]
    }
   ],
   "source": [
    "numbers = [1, 6, 8, 132, 39, 0.72]  # replace with any iterable\n",
    "min_value, max_value = find_min_max(numbers)\n",
    "\n",
    "print(\"Min value is:\", min_value)\n",
    "print(\"Max value is:\", max_value)"
   ]
  }
 ],
 "metadata": {
  "kernelspec": {
   "display_name": "Python 3",
   "language": "python",
   "name": "python3"
  },
  "language_info": {
   "codemirror_mode": {
    "name": "ipython",
    "version": 3
   },
   "file_extension": ".py",
   "mimetype": "text/x-python",
   "name": "python",
   "nbconvert_exporter": "python",
   "pygments_lexer": "ipython3",
   "version": "3.12.1"
  }
 },
 "nbformat": 4,
 "nbformat_minor": 2
}
