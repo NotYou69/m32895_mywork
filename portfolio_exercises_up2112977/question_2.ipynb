{
 "cells": [
  {
   "cell_type": "code",
   "execution_count": 11,
   "metadata": {},
   "outputs": [
    {
     "name": "stdout",
     "output_type": "stream",
     "text": [
      "0\n",
      "1\n",
      "1\n",
      "2\n",
      "3\n",
      "5\n",
      "8\n",
      "13\n",
      "21\n",
      "34\n"
     ]
    }
   ],
   "source": [
    "\n",
    "fib = input(\"Please input how many numbers of the fibonacci set you would like:\")\n",
    "fib = int(fib) - int(2)\n",
    "pos1 = 0\n",
    "pos2 = 1\n",
    "print(\"0\\n1\")\n",
    "next_pos = pos2\n",
    "for fib in range (int(fib)):\n",
    "    number = pos1 + pos2\n",
    "    print(number)\n",
    "    pos1, pos2 = pos2, next_pos\n",
    "    next_pos = pos1 + pos2"
   ]
  },
  {
   "cell_type": "code",
   "execution_count": null,
   "metadata": {},
   "outputs": [],
   "source": []
  }
 ],
 "metadata": {
  "kernelspec": {
   "display_name": "Python 3",
   "language": "python",
   "name": "python3"
  },
  "language_info": {
   "codemirror_mode": {
    "name": "ipython",
    "version": 3
   },
   "file_extension": ".py",
   "mimetype": "text/x-python",
   "name": "python",
   "nbconvert_exporter": "python",
   "pygments_lexer": "ipython3",
   "version": "3.12.1"
  }
 },
 "nbformat": 4,
 "nbformat_minor": 2
}
